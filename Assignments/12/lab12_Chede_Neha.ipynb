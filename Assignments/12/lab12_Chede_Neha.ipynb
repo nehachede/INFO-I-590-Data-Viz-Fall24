{
 "cells": [
  {
   "cell_type": "markdown",
   "metadata": {
    "id": "A6iFUUQLNDlE"
   },
   "source": [
    "<table class=\"m01-notebook-buttons\" align=\"left\">\n",
    "  <td>\n",
    "    <a target=\"_blank\" href=\"https://colab.research.google.com/github/yy/dviz-course/blob/master/docs/m12-maps/lab12.ipynb\"><img src=\"https://www.tensorflow.org/images/colab_logo_32px.png\" />Run in Google Colab</a>\n",
    "  </td>\n",
    "  <td>\n",
    "    <a href=\"https://yyahn.com/dviz-course/m12-maps/lab12/\"><img src=\"https://www.tensorflow.org/images/GitHub-Mark-32px.png\" />View on Github</a>\n",
    "  </td>\n",
    "  <td>\n",
    "    <a href=\"https://raw.githubusercontent.com/yy/dviz-course/master/docs/m12-maps/lab12.ipynb\"><img src=\"https://www.tensorflow.org/images/GitHub-Mark-32px.png\" />View raw on Github</a>\n",
    "  </td>\n",
    "</table>"
   ]
  },
  {
   "cell_type": "markdown",
   "metadata": {
    "id": "-DARAON8qoJR"
   },
   "source": [
    "# Module 12: Maps\n",
    "\n",
    "Let's draw some maps. 🗺🧐"
   ]
  },
  {
   "cell_type": "markdown",
   "metadata": {
    "id": "d9E9W5lXqoJa"
   },
   "source": [
    "## A dotmap with Altair\n",
    "\n",
    "Let's start with altair. \n",
    "\n",
    "When your dataset is large, it is nice to enable something called \"json data transformer\" in altair. What it does is, instead of generating and holding the whole dataset in the memory, to transform the dataset and save into a temporary file. This makes the whole plotting process much more efficient. For more information, check out: https://altair-viz.github.io/user_guide/data_transformers.html"
   ]
  },
  {
   "cell_type": "code",
   "execution_count": 1,
   "metadata": {
    "colab": {
     "base_uri": "https://localhost:8080/"
    },
    "executionInfo": {
     "elapsed": 1171,
     "status": "ok",
     "timestamp": 1690232847801,
     "user": {
      "displayName": "Vincent Wong",
      "userId": "06927694896148305320"
     },
     "user_tz": 240
    },
    "id": "2ycXU2IbqoJc",
    "outputId": "3f87e857-d4d1-43b4-cb40-a4099c2c2714"
   },
   "outputs": [
    {
     "data": {
      "text/plain": [
       "DataTransformerRegistry.enable('json')"
      ]
     },
     "execution_count": 1,
     "metadata": {},
     "output_type": "execute_result"
    }
   ],
   "source": [
    "import altair as alt\n",
    "\n",
    "# saving data into a file rather than embedding into the chart\n",
    "alt.data_transformers.enable('json')"
   ]
  },
  {
   "cell_type": "markdown",
   "metadata": {
    "id": "Vz-TNR-IqoJg"
   },
   "source": [
    "We need a dataset with geographical coordinates. This `zipcodes` dataset contains the location and zipcode of each zip code area."
   ]
  },
  {
   "cell_type": "code",
   "execution_count": 2,
   "metadata": {
    "colab": {
     "base_uri": "https://localhost:8080/",
     "height": 206
    },
    "executionInfo": {
     "elapsed": 2397,
     "status": "ok",
     "timestamp": 1690232854409,
     "user": {
      "displayName": "Vincent Wong",
      "userId": "06927694896148305320"
     },
     "user_tz": 240
    },
    "id": "qYOeI0eLqoJh",
    "outputId": "5547c589-e6fd-44f1-95d7-9cc955e209c2"
   },
   "outputs": [
    {
     "data": {
      "text/html": [
       "<div>\n",
       "<style scoped>\n",
       "    .dataframe tbody tr th:only-of-type {\n",
       "        vertical-align: middle;\n",
       "    }\n",
       "\n",
       "    .dataframe tbody tr th {\n",
       "        vertical-align: top;\n",
       "    }\n",
       "\n",
       "    .dataframe thead th {\n",
       "        text-align: right;\n",
       "    }\n",
       "</style>\n",
       "<table border=\"1\" class=\"dataframe\">\n",
       "  <thead>\n",
       "    <tr style=\"text-align: right;\">\n",
       "      <th></th>\n",
       "      <th>zip_code</th>\n",
       "      <th>latitude</th>\n",
       "      <th>longitude</th>\n",
       "      <th>city</th>\n",
       "      <th>state</th>\n",
       "      <th>county</th>\n",
       "    </tr>\n",
       "  </thead>\n",
       "  <tbody>\n",
       "    <tr>\n",
       "      <th>0</th>\n",
       "      <td>00501</td>\n",
       "      <td>40.922326</td>\n",
       "      <td>-72.637078</td>\n",
       "      <td>Holtsville</td>\n",
       "      <td>NY</td>\n",
       "      <td>Suffolk</td>\n",
       "    </tr>\n",
       "    <tr>\n",
       "      <th>1</th>\n",
       "      <td>00544</td>\n",
       "      <td>40.922326</td>\n",
       "      <td>-72.637078</td>\n",
       "      <td>Holtsville</td>\n",
       "      <td>NY</td>\n",
       "      <td>Suffolk</td>\n",
       "    </tr>\n",
       "    <tr>\n",
       "      <th>2</th>\n",
       "      <td>00601</td>\n",
       "      <td>18.165273</td>\n",
       "      <td>-66.722583</td>\n",
       "      <td>Adjuntas</td>\n",
       "      <td>PR</td>\n",
       "      <td>Adjuntas</td>\n",
       "    </tr>\n",
       "    <tr>\n",
       "      <th>3</th>\n",
       "      <td>00602</td>\n",
       "      <td>18.393103</td>\n",
       "      <td>-67.180953</td>\n",
       "      <td>Aguada</td>\n",
       "      <td>PR</td>\n",
       "      <td>Aguada</td>\n",
       "    </tr>\n",
       "    <tr>\n",
       "      <th>4</th>\n",
       "      <td>00603</td>\n",
       "      <td>18.455913</td>\n",
       "      <td>-67.145780</td>\n",
       "      <td>Aguadilla</td>\n",
       "      <td>PR</td>\n",
       "      <td>Aguadilla</td>\n",
       "    </tr>\n",
       "  </tbody>\n",
       "</table>\n",
       "</div>"
      ],
      "text/plain": [
       "  zip_code   latitude  longitude        city state     county\n",
       "0    00501  40.922326 -72.637078  Holtsville    NY    Suffolk\n",
       "1    00544  40.922326 -72.637078  Holtsville    NY    Suffolk\n",
       "2    00601  18.165273 -66.722583    Adjuntas    PR   Adjuntas\n",
       "3    00602  18.393103 -67.180953      Aguada    PR     Aguada\n",
       "4    00603  18.455913 -67.145780   Aguadilla    PR  Aguadilla"
      ]
     },
     "execution_count": 2,
     "metadata": {},
     "output_type": "execute_result"
    }
   ],
   "source": [
    "from vega_datasets import data\n",
    "\n",
    "zipcodes_url = data.zipcodes.url\n",
    "zipcodes = data.zipcodes()\n",
    "zipcodes.head()"
   ]
  },
  {
   "cell_type": "code",
   "execution_count": 3,
   "metadata": {
    "colab": {
     "base_uri": "https://localhost:8080/",
     "height": 206
    },
    "executionInfo": {
     "elapsed": 1517,
     "status": "ok",
     "timestamp": 1690232857459,
     "user": {
      "displayName": "Vincent Wong",
      "userId": "06927694896148305320"
     },
     "user_tz": 240
    },
    "id": "EyzYgquoqoJj",
    "outputId": "388048a3-1be1-40dc-9f37-8d17cd398c12"
   },
   "outputs": [
    {
     "data": {
      "text/html": [
       "<div>\n",
       "<style scoped>\n",
       "    .dataframe tbody tr th:only-of-type {\n",
       "        vertical-align: middle;\n",
       "    }\n",
       "\n",
       "    .dataframe tbody tr th {\n",
       "        vertical-align: top;\n",
       "    }\n",
       "\n",
       "    .dataframe thead th {\n",
       "        text-align: right;\n",
       "    }\n",
       "</style>\n",
       "<table border=\"1\" class=\"dataframe\">\n",
       "  <thead>\n",
       "    <tr style=\"text-align: right;\">\n",
       "      <th></th>\n",
       "      <th>zip_code</th>\n",
       "      <th>latitude</th>\n",
       "      <th>longitude</th>\n",
       "      <th>city</th>\n",
       "      <th>state</th>\n",
       "      <th>county</th>\n",
       "    </tr>\n",
       "  </thead>\n",
       "  <tbody>\n",
       "    <tr>\n",
       "      <th>0</th>\n",
       "      <td>00501</td>\n",
       "      <td>40.922326</td>\n",
       "      <td>-72.637078</td>\n",
       "      <td>Holtsville</td>\n",
       "      <td>NY</td>\n",
       "      <td>Suffolk</td>\n",
       "    </tr>\n",
       "    <tr>\n",
       "      <th>1</th>\n",
       "      <td>00544</td>\n",
       "      <td>40.922326</td>\n",
       "      <td>-72.637078</td>\n",
       "      <td>Holtsville</td>\n",
       "      <td>NY</td>\n",
       "      <td>Suffolk</td>\n",
       "    </tr>\n",
       "    <tr>\n",
       "      <th>2</th>\n",
       "      <td>00601</td>\n",
       "      <td>18.165273</td>\n",
       "      <td>-66.722583</td>\n",
       "      <td>Adjuntas</td>\n",
       "      <td>PR</td>\n",
       "      <td>Adjuntas</td>\n",
       "    </tr>\n",
       "    <tr>\n",
       "      <th>3</th>\n",
       "      <td>00602</td>\n",
       "      <td>18.393103</td>\n",
       "      <td>-67.180953</td>\n",
       "      <td>Aguada</td>\n",
       "      <td>PR</td>\n",
       "      <td>Aguada</td>\n",
       "    </tr>\n",
       "    <tr>\n",
       "      <th>4</th>\n",
       "      <td>00603</td>\n",
       "      <td>18.455913</td>\n",
       "      <td>-67.145780</td>\n",
       "      <td>Aguadilla</td>\n",
       "      <td>PR</td>\n",
       "      <td>Aguadilla</td>\n",
       "    </tr>\n",
       "  </tbody>\n",
       "</table>\n",
       "</div>"
      ],
      "text/plain": [
       "  zip_code   latitude  longitude        city state     county\n",
       "0    00501  40.922326 -72.637078  Holtsville    NY    Suffolk\n",
       "1    00544  40.922326 -72.637078  Holtsville    NY    Suffolk\n",
       "2    00601  18.165273 -66.722583    Adjuntas    PR   Adjuntas\n",
       "3    00602  18.393103 -67.180953      Aguada    PR     Aguada\n",
       "4    00603  18.455913 -67.145780   Aguadilla    PR  Aguadilla"
      ]
     },
     "execution_count": 3,
     "metadata": {},
     "output_type": "execute_result"
    }
   ],
   "source": [
    "zipcodes = data.zipcodes(dtype={'zip_code': 'category'})\n",
    "zipcodes.head()"
   ]
  },
  {
   "cell_type": "code",
   "execution_count": 4,
   "metadata": {
    "colab": {
     "base_uri": "https://localhost:8080/"
    },
    "executionInfo": {
     "elapsed": 3,
     "status": "ok",
     "timestamp": 1690232857814,
     "user": {
      "displayName": "Vincent Wong",
      "userId": "06927694896148305320"
     },
     "user_tz": 240
    },
    "id": "VbSCHJVbqoJk",
    "outputId": "7f2a736f-11ad-46d9-b016-d76c000d01be"
   },
   "outputs": [
    {
     "data": {
      "text/plain": [
       "CategoricalDtype(categories=['00501', '00544', '00601', '00602', '00603', '00604',\n",
       "                  '00605', '00606', '00610', '00611',\n",
       "                  ...\n",
       "                  '99919', '99921', '99922', '99923', '99925', '99926',\n",
       "                  '99927', '99928', '99929', '99950'],\n",
       ", ordered=False, categories_dtype=object)"
      ]
     },
     "execution_count": 4,
     "metadata": {},
     "output_type": "execute_result"
    }
   ],
   "source": [
    "zipcodes.zip_code.dtype"
   ]
  },
  {
   "cell_type": "markdown",
   "metadata": {
    "id": "JS8nSE1YqoJn"
   },
   "source": [
    "Btw, you'll have fewer issues if you pass URL instead of a dataframe to `alt.Chart`."
   ]
  },
  {
   "cell_type": "markdown",
   "metadata": {
    "id": "TPj8GsfMqoJo"
   },
   "source": [
    "### Let's draw it\n",
    "\n",
    "Now we have the dataset loaded and start drawing some plots. Let's say you don't know anything about map projections. What would you try with geographical data? Probably the simplest way is considering (longitude, latitude) as a Cartesian coordinate and directly plot them."
   ]
  },
  {
   "cell_type": "code",
   "execution_count": null,
   "metadata": {
    "colab": {
     "base_uri": "https://localhost:8080/",
     "height": 368
    },
    "executionInfo": {
     "elapsed": 306,
     "status": "ok",
     "timestamp": 1690232859294,
     "user": {
      "displayName": "Vincent Wong",
      "userId": "06927694896148305320"
     },
     "user_tz": 240
    },
    "id": "ldFAB0p_qoJq",
    "outputId": "30fed316-e3f1-4002-90e1-26974811ccc3"
   },
   "outputs": [],
   "source": [
    "alt.Chart(zipcodes_url).mark_circle().encode(\n",
    "    x='longitude:Q',\n",
    "    y='latitude:Q',\n",
    ")"
   ]
  },
  {
   "cell_type": "markdown",
   "metadata": {
    "id": "V4UTA0L3qoJr"
   },
   "source": [
    "Actually this itself is a map projection called [Equirectangular projection](https://en.wikipedia.org/wiki/Equirectangular_projection). This projection (or almost a *non-projection*) is super straight-forward and doesn't require any processing of the data. So, often it is used to just quickly explore geographical data. As you dig deeper, you still want to think about which map projection fits your need best. Don't just use equirectangular projection without any thoughts!\n",
    "\n",
    "Anyway, let's make it look slighly better by reducing the size of the circles and adjusting the aspect ratio. **Q: Can you adjust the width and height?**"
   ]
  },
  {
   "cell_type": "code",
   "execution_count": null,
   "metadata": {
    "colab": {
     "base_uri": "https://localhost:8080/",
     "height": 268
    },
    "executionInfo": {
     "elapsed": 307,
     "status": "ok",
     "timestamp": 1690232868969,
     "user": {
      "displayName": "Vincent Wong",
      "userId": "06927694896148305320"
     },
     "user_tz": 240
    },
    "id": "CEMhFuGIqoJt",
    "outputId": "4eebb7f5-d423-47fb-a661-df0a300ec9f9"
   },
   "outputs": [],
   "source": [
    "# YOUR SOLUTION HERE\n",
    "alt.Chart(zipcodes_url).mark_circle(size = 10).encode(\n",
    "    x='longitude:Q',\n",
    "    y='latitude:Q',\n",
    ").properties(\n",
    "    width = 1200,\n",
    "    height = 400\n",
    ")"
   ]
  },
  {
   "cell_type": "markdown",
   "metadata": {
    "id": "kd9NuhLlqoJu"
   },
   "source": [
    "But, a much better way to do this is explicitly specifying that they are lat, lng coordinates by using `longitude=` and `latitude=`, rather than `x=` and `y=`. If you do that, altair automatically adjust the aspect ratio. **Q: Can you try it?**"
   ]
  },
  {
   "cell_type": "code",
   "execution_count": null,
   "metadata": {
    "colab": {
     "base_uri": "https://localhost:8080/",
     "height": 331
    },
    "executionInfo": {
     "elapsed": 308,
     "status": "ok",
     "timestamp": 1690232870219,
     "user": {
      "displayName": "Vincent Wong",
      "userId": "06927694896148305320"
     },
     "user_tz": 240
    },
    "id": "qqXF2OQrqoJv",
    "outputId": "bd2f7d3d-fff2-4162-a037-848c464e40e6"
   },
   "outputs": [],
   "source": [
    "# YOUR SOLUTION HERE\n",
    "alt.Chart(zipcodes_url).mark_circle(size = 10).encode(\n",
    "    longitude='longitude:Q',\n",
    "    latitude='latitude:Q',\n",
    ").properties(\n",
    "    width = 1200,\n",
    "    height = 400\n",
    ")"
   ]
  },
  {
   "cell_type": "markdown",
   "metadata": {
    "id": "QLhCkER6qoJx"
   },
   "source": [
    "Because the [American empire is far-reaching and complicated](https://www.youtube.com/watch?v=ASSOQDQvVLU), the information density of this map is very low (although interesting). Moreover, the US looks twisted because a default projection that is not focused on the US is used. \n",
    "\n",
    "A common projection for visualizing US data is [AlbersUSA](https://bl.ocks.org/mbostock/5545680), which uses [Albers (equal-area) projection](https://en.wikipedia.org/wiki/Albers_projection). This is a standard projection used in United States Geological Survey and the United States Census Bureau. Albers USA contains a composition of US main land, Alaska, and Hawaii.\n",
    "\n",
    "To use it, we  call `project` method and specify which variables are `longitude` and `latitude`.\n",
    "\n",
    "**Q: use the `project` method to draw the map in the AlbersUsa projection.**"
   ]
  },
  {
   "cell_type": "code",
   "execution_count": null,
   "metadata": {
    "colab": {
     "base_uri": "https://localhost:8080/",
     "height": 433
    },
    "executionInfo": {
     "elapsed": 10,
     "status": "ok",
     "timestamp": 1690232871853,
     "user": {
      "displayName": "Vincent Wong",
      "userId": "06927694896148305320"
     },
     "user_tz": 240
    },
    "id": "XqIx6087qoJx",
    "outputId": "371fdda2-849f-4f52-a365-c99c7a7fedbb"
   },
   "outputs": [],
   "source": [
    "# YOUR SOLUTION HERE\n",
    "alt.Chart(zipcodes_url).mark_circle(size=10).encode(\n",
    "    longitude='longitude:Q',\n",
    "    latitude='latitude:Q'\n",
    ").project(\n",
    "    type='albersUsa' \n",
    ").properties(\n",
    "    width=800,  \n",
    "    height=400   \n",
    ")"
   ]
  },
  {
   "cell_type": "markdown",
   "metadata": {
    "id": "HgFp8NocqoJy"
   },
   "source": [
    "Now we're talking. 😎\n",
    "\n",
    "Let's visualize the large-scale zipcode patterns. We can use the fact that the zipcodes are hierarchically organized. That is, the first digit captures the largest area divisions and the other digits are about smaller geographical divisions.\n",
    "\n",
    "Altair provides some data transformation functionalities. One of them is extracting a substring from a variable."
   ]
  },
  {
   "cell_type": "code",
   "execution_count": null,
   "metadata": {
    "colab": {
     "base_uri": "https://localhost:8080/",
     "height": 433
    },
    "executionInfo": {
     "elapsed": 7,
     "status": "ok",
     "timestamp": 1690232874556,
     "user": {
      "displayName": "Vincent Wong",
      "userId": "06927694896148305320"
     },
     "user_tz": 240
    },
    "id": "wjHx0a39qoJz",
    "outputId": "3c2c2fa8-1c46-4f1a-d70c-013766e59f2b"
   },
   "outputs": [],
   "source": [
    "from altair.expr import datum, substring\n",
    "\n",
    "alt.Chart(zipcodes_url).mark_circle(size=2).transform_calculate(\n",
    "    'first_digit', substring(datum.zip_code, 0, 1)\n",
    ").encode(\n",
    "    longitude='longitude:Q',\n",
    "    latitude='latitude:Q',\n",
    "    color='first_digit:N',\n",
    ").project(\n",
    "    type='albersUsa'\n",
    ").properties(\n",
    "    width=700,\n",
    "    height=400,\n",
    ")"
   ]
  },
  {
   "cell_type": "markdown",
   "metadata": {
    "id": "QeHehou1qoJ0"
   },
   "source": [
    "For each row (`datum`), you obtain the `zip_code` variable and get the substring (imagine Python list slicing), and then you call the result `first_digit`. Now, you can use this `first_digit` variable to color the circles. Also note that we specify `first_digit` as a *nominal* variable, not quantitative, to obtain a categorical colormap. But we can also play with it too.\n",
    "\n",
    "**Q: Why don't you extract the first two digits, name it as `two_digits`, and declare that as a quantitative variable? Any interesting patterns? What does it tell us about the history of US?**"
   ]
  },
  {
   "cell_type": "code",
   "execution_count": null,
   "metadata": {
    "colab": {
     "base_uri": "https://localhost:8080/",
     "height": 431,
     "resources": {
      "http://localhost:8080/altair-data-420f3d354b7ce0e0779d651ffd5241c4.json": {
       "data": "CjwhRE9DVFlQRSBodG1sPgo8aHRtbCBsYW5nPWVuPgogIDxtZXRhIGNoYXJzZXQ9dXRmLTg+CiAgPG1ldGEgbmFtZT12aWV3cG9ydCBjb250ZW50PSJpbml0aWFsLXNjYWxlPTEsIG1pbmltdW0tc2NhbGU9MSwgd2lkdGg9ZGV2aWNlLXdpZHRoIj4KICA8dGl0bGU+RXJyb3IgNDA0IChOb3QgRm91bmQpISExPC90aXRsZT4KICA8c3R5bGU+CiAgICAqe21hcmdpbjowO3BhZGRpbmc6MH1odG1sLGNvZGV7Zm9udDoxNXB4LzIycHggYXJpYWwsc2Fucy1zZXJpZn1odG1se2JhY2tncm91bmQ6I2ZmZjtjb2xvcjojMjIyO3BhZGRpbmc6MTVweH1ib2R5e21hcmdpbjo3JSBhdXRvIDA7bWF4LXdpZHRoOjM5MHB4O21pbi1oZWlnaHQ6MTgwcHg7cGFkZGluZzozMHB4IDAgMTVweH0qID4gYm9keXtiYWNrZ3JvdW5kOnVybCgvL3d3dy5nb29nbGUuY29tL2ltYWdlcy9lcnJvcnMvcm9ib3QucG5nKSAxMDAlIDVweCBuby1yZXBlYXQ7cGFkZGluZy1yaWdodDoyMDVweH1we21hcmdpbjoxMXB4IDAgMjJweDtvdmVyZmxvdzpoaWRkZW59aW5ze2NvbG9yOiM3Nzc7dGV4dC1kZWNvcmF0aW9uOm5vbmV9YSBpbWd7Ym9yZGVyOjB9QG1lZGlhIHNjcmVlbiBhbmQgKG1heC13aWR0aDo3NzJweCl7Ym9keXtiYWNrZ3JvdW5kOm5vbmU7bWFyZ2luLXRvcDowO21heC13aWR0aDpub25lO3BhZGRpbmctcmlnaHQ6MH19I2xvZ297YmFja2dyb3VuZDp1cmwoLy93d3cuZ29vZ2xlLmNvbS9pbWFnZXMvbG9nb3MvZXJyb3JwYWdlL2Vycm9yX2xvZ28tMTUweDU0LnBuZykgbm8tcmVwZWF0O21hcmdpbi1sZWZ0Oi01cHh9QG1lZGlhIG9ubHkgc2NyZWVuIGFuZCAobWluLXJlc29sdXRpb246MTkyZHBpKXsjbG9nb3tiYWNrZ3JvdW5kOnVybCgvL3d3dy5nb29nbGUuY29tL2ltYWdlcy9sb2dvcy9lcnJvcnBhZ2UvZXJyb3JfbG9nby0xNTB4NTQtMngucG5nKSBuby1yZXBlYXQgMCUgMCUvMTAwJSAxMDAlOy1tb3otYm9yZGVyLWltYWdlOnVybCgvL3d3dy5nb29nbGUuY29tL2ltYWdlcy9sb2dvcy9lcnJvcnBhZ2UvZXJyb3JfbG9nby0xNTB4NTQtMngucG5nKSAwfX1AbWVkaWEgb25seSBzY3JlZW4gYW5kICgtd2Via2l0LW1pbi1kZXZpY2UtcGl4ZWwtcmF0aW86Mil7I2xvZ297YmFja2dyb3VuZDp1cmwoLy93d3cuZ29vZ2xlLmNvbS9pbWFnZXMvbG9nb3MvZXJyb3JwYWdlL2Vycm9yX2xvZ28tMTUweDU0LTJ4LnBuZykgbm8tcmVwZWF0Oy13ZWJraXQtYmFja2dyb3VuZC1zaXplOjEwMCUgMTAwJX19I2xvZ297ZGlzcGxheTppbmxpbmUtYmxvY2s7aGVpZ2h0OjU0cHg7d2lkdGg6MTUwcHh9CiAgPC9zdHlsZT4KICA8YSBocmVmPS8vd3d3Lmdvb2dsZS5jb20vPjxzcGFuIGlkPWxvZ28gYXJpYS1sYWJlbD1Hb29nbGU+PC9zcGFuPjwvYT4KICA8cD48Yj40MDQuPC9iPiA8aW5zPlRoYXTigJlzIGFuIGVycm9yLjwvaW5zPgogIDxwPiAgPGlucz5UaGF04oCZcyBhbGwgd2Uga25vdy48L2lucz4K",
       "headers": [
        [
         "content-length",
         "1449"
        ],
        [
         "content-type",
         "text/html; charset=utf-8"
        ]
       ],
       "ok": false,
       "status": 404,
       "status_text": ""
      }
     }
    },
    "executionInfo": {
     "elapsed": 368,
     "status": "ok",
     "timestamp": 1690232878782,
     "user": {
      "displayName": "Vincent Wong",
      "userId": "06927694896148305320"
     },
     "user_tz": 240
    },
    "id": "X-FGT_ghqoJ1",
    "outputId": "46e6e02c-5cfc-448f-efe7-a5b887670cb9"
   },
   "outputs": [],
   "source": [
    "# YOUR SOLUTION HERE\n",
    "alt.Chart(zipcodes_url).mark_circle(size=2).encode(\n",
    "    longitude='longitude:Q',\n",
    "    latitude='latitude:Q',\n",
    "    color='two_digits:Q'\n",
    ").project(\n",
    "    type='albersUsa'\n",
    ").properties(\n",
    "    width=700,\n",
    "    height=400\n",
    ").transform_calculate(\n",
    "    \"two_digits\", substring(datum.zip_code, 0, 2)\n",
    ")"
   ]
  },
  {
   "cell_type": "markdown",
   "metadata": {},
   "source": [
    "_Analyzing the first two digits of U.S. ZIP codes reveals significant historical patterns of industrialization, migration, and urbanization. Lower-numbered ZIP codes correspond to the Northeast and Midwest, regions that were early industrial hubs attracting immigrants and domestic migrants( theGreat Migration. Higher-numbered ZIP codes correspond to the West and South, areas that saw rapid growth due to westward expansion, economic opportunities, and later, the tech boom. These patterns reflect broader shifts in U.S. history, including the decline of rural areas in the Northeast and Midwest, the rise of urban centers in the West and South, and the transformation of the U.S. economy from manufacturing to service and technology-based industries._"
   ]
  },
  {
   "cell_type": "markdown",
   "metadata": {
    "id": "ju0PurTgqoJ2"
   },
   "source": [
    "**Q: also try it with declaring the first two digits as a categorical variable**"
   ]
  },
  {
   "cell_type": "code",
   "execution_count": null,
   "metadata": {
    "colab": {
     "base_uri": "https://localhost:8080/",
     "height": 424
    },
    "executionInfo": {
     "elapsed": 343,
     "status": "ok",
     "timestamp": 1690232880830,
     "user": {
      "displayName": "Vincent Wong",
      "userId": "06927694896148305320"
     },
     "user_tz": 240
    },
    "id": "IJD4cLCHrjhp",
    "outputId": "9fdc4eed-4016-44fe-c947-fcf3a35590ff"
   },
   "outputs": [],
   "source": [
    "zipcodes"
   ]
  },
  {
   "cell_type": "code",
   "execution_count": null,
   "metadata": {
    "colab": {
     "base_uri": "https://localhost:8080/",
     "height": 431,
     "resources": {
      "http://localhost:8080/altair-data-420f3d354b7ce0e0779d651ffd5241c4.json": {
       "data": "CjwhRE9DVFlQRSBodG1sPgo8aHRtbCBsYW5nPWVuPgogIDxtZXRhIGNoYXJzZXQ9dXRmLTg+CiAgPG1ldGEgbmFtZT12aWV3cG9ydCBjb250ZW50PSJpbml0aWFsLXNjYWxlPTEsIG1pbmltdW0tc2NhbGU9MSwgd2lkdGg9ZGV2aWNlLXdpZHRoIj4KICA8dGl0bGU+RXJyb3IgNDA0IChOb3QgRm91bmQpISExPC90aXRsZT4KICA8c3R5bGU+CiAgICAqe21hcmdpbjowO3BhZGRpbmc6MH1odG1sLGNvZGV7Zm9udDoxNXB4LzIycHggYXJpYWwsc2Fucy1zZXJpZn1odG1se2JhY2tncm91bmQ6I2ZmZjtjb2xvcjojMjIyO3BhZGRpbmc6MTVweH1ib2R5e21hcmdpbjo3JSBhdXRvIDA7bWF4LXdpZHRoOjM5MHB4O21pbi1oZWlnaHQ6MTgwcHg7cGFkZGluZzozMHB4IDAgMTVweH0qID4gYm9keXtiYWNrZ3JvdW5kOnVybCgvL3d3dy5nb29nbGUuY29tL2ltYWdlcy9lcnJvcnMvcm9ib3QucG5nKSAxMDAlIDVweCBuby1yZXBlYXQ7cGFkZGluZy1yaWdodDoyMDVweH1we21hcmdpbjoxMXB4IDAgMjJweDtvdmVyZmxvdzpoaWRkZW59aW5ze2NvbG9yOiM3Nzc7dGV4dC1kZWNvcmF0aW9uOm5vbmV9YSBpbWd7Ym9yZGVyOjB9QG1lZGlhIHNjcmVlbiBhbmQgKG1heC13aWR0aDo3NzJweCl7Ym9keXtiYWNrZ3JvdW5kOm5vbmU7bWFyZ2luLXRvcDowO21heC13aWR0aDpub25lO3BhZGRpbmctcmlnaHQ6MH19I2xvZ297YmFja2dyb3VuZDp1cmwoLy93d3cuZ29vZ2xlLmNvbS9pbWFnZXMvbG9nb3MvZXJyb3JwYWdlL2Vycm9yX2xvZ28tMTUweDU0LnBuZykgbm8tcmVwZWF0O21hcmdpbi1sZWZ0Oi01cHh9QG1lZGlhIG9ubHkgc2NyZWVuIGFuZCAobWluLXJlc29sdXRpb246MTkyZHBpKXsjbG9nb3tiYWNrZ3JvdW5kOnVybCgvL3d3dy5nb29nbGUuY29tL2ltYWdlcy9sb2dvcy9lcnJvcnBhZ2UvZXJyb3JfbG9nby0xNTB4NTQtMngucG5nKSBuby1yZXBlYXQgMCUgMCUvMTAwJSAxMDAlOy1tb3otYm9yZGVyLWltYWdlOnVybCgvL3d3dy5nb29nbGUuY29tL2ltYWdlcy9sb2dvcy9lcnJvcnBhZ2UvZXJyb3JfbG9nby0xNTB4NTQtMngucG5nKSAwfX1AbWVkaWEgb25seSBzY3JlZW4gYW5kICgtd2Via2l0LW1pbi1kZXZpY2UtcGl4ZWwtcmF0aW86Mil7I2xvZ297YmFja2dyb3VuZDp1cmwoLy93d3cuZ29vZ2xlLmNvbS9pbWFnZXMvbG9nb3MvZXJyb3JwYWdlL2Vycm9yX2xvZ28tMTUweDU0LTJ4LnBuZykgbm8tcmVwZWF0Oy13ZWJraXQtYmFja2dyb3VuZC1zaXplOjEwMCUgMTAwJX19I2xvZ297ZGlzcGxheTppbmxpbmUtYmxvY2s7aGVpZ2h0OjU0cHg7d2lkdGg6MTUwcHh9CiAgPC9zdHlsZT4KICA8YSBocmVmPS8vd3d3Lmdvb2dsZS5jb20vPjxzcGFuIGlkPWxvZ28gYXJpYS1sYWJlbD1Hb29nbGU+PC9zcGFuPjwvYT4KICA8cD48Yj40MDQuPC9iPiA8aW5zPlRoYXTigJlzIGFuIGVycm9yLjwvaW5zPgogIDxwPiAgPGlucz5UaGF04oCZcyBhbGwgd2Uga25vdy48L2lucz4K",
       "headers": [
        [
         "content-length",
         "1449"
        ],
        [
         "content-type",
         "text/html; charset=utf-8"
        ]
       ],
       "ok": false,
       "status": 404,
       "status_text": ""
      }
     }
    },
    "executionInfo": {
     "elapsed": 677,
     "status": "ok",
     "timestamp": 1690232881911,
     "user": {
      "displayName": "Vincent Wong",
      "userId": "06927694896148305320"
     },
     "user_tz": 240
    },
    "id": "1tiGYQJNqoJ2",
    "outputId": "c45b34f1-de72-40f0-e802-2d04991a89bf"
   },
   "outputs": [],
   "source": [
    "# Implement\n",
    "\n",
    "# YOUR SOLUTION HERE\n",
    "alt.Chart(zipcodes_url).mark_circle(size=2).transform_calculate(\n",
    "    two_digits='substring(datum.zip_code, 0, 2)' \n",
    ").encode(\n",
    "    longitude='longitude:Q',\n",
    "    latitude='latitude:Q',\n",
    "    color='two_digits:N'  \n",
    ").project(\n",
    "    type='albersUsa'\n",
    ").properties(\n",
    "    width=700,\n",
    "    height=400\n",
    ")"
   ]
  },
  {
   "cell_type": "markdown",
   "metadata": {
    "id": "SU4a0WzJqoJ3"
   },
   "source": [
    "Btw, you can always click \"view source\" or \"open in Vega Editor\" to look at the json object that **defines** this visualization. You can embed this json object on your webpage and easily put up an interactive visualization.\n",
    "\n",
    "**Q: Can you put a tooltip that displays the zipcode when you mouse-over?**"
   ]
  },
  {
   "cell_type": "code",
   "execution_count": null,
   "metadata": {
    "colab": {
     "base_uri": "https://localhost:8080/",
     "height": 433
    },
    "executionInfo": {
     "elapsed": 9,
     "status": "ok",
     "timestamp": 1690232882918,
     "user": {
      "displayName": "Vincent Wong",
      "userId": "06927694896148305320"
     },
     "user_tz": 240
    },
    "id": "lOv0DjHrqoJ4",
    "outputId": "4876bab4-c471-4b25-e21f-b066b5b590c5"
   },
   "outputs": [],
   "source": [
    "# YOUR SOLUTION HERE\n",
    "alt.Chart(zipcodes_url).mark_circle(size=2).transform_calculate(\n",
    "    two_digits='substring(datum.zip_code, 0, 2)' \n",
    ").encode(\n",
    "    longitude='longitude:Q',\n",
    "    latitude='latitude:Q',\n",
    "    color='two_digits:N',\n",
    "    tooltip = ['zip_code:N']\n",
    ").project(\n",
    "    type='albersUsa'\n",
    ").properties(\n",
    "    width=700,\n",
    "    height=400\n",
    ")"
   ]
  },
  {
   "cell_type": "code",
   "execution_count": null,
   "metadata": {
    "colab": {
     "base_uri": "https://localhost:8080/",
     "height": 424
    },
    "executionInfo": {
     "elapsed": 7,
     "status": "ok",
     "timestamp": 1690232883207,
     "user": {
      "displayName": "Vincent Wong",
      "userId": "06927694896148305320"
     },
     "user_tz": 240
    },
    "id": "mre6TyO5t_rZ",
    "outputId": "559d4e52-c99c-40e4-fce1-83de8464e8d6"
   },
   "outputs": [],
   "source": [
    "zipcodes"
   ]
  },
  {
   "cell_type": "markdown",
   "metadata": {
    "id": "Ilc45qeDqoJ5"
   },
   "source": [
    "## Choropleth\n",
    "\n",
    "Let's try some choropleth now. Vega datasets have US county / state boundary data (`us_10m`) and world country boundary data (`world-110m`). You can take a look at the boundaries on GitHub (they renders topoJSON files):\n",
    "\n",
    "- https://github.com/vega/vega-datasets/blob/main/data/us-10m.json\n",
    "- https://github.com/vega/vega-datasets/blob/main/data/world-110m.json\n",
    "\n",
    "If you click \"Raw\" then you can take a look at the actual file, which is hard to read.\n",
    "\n",
    "Essentially, each file is a large dictionary with the following keys."
   ]
  },
  {
   "cell_type": "code",
   "execution_count": null,
   "metadata": {
    "colab": {
     "base_uri": "https://localhost:8080/"
    },
    "executionInfo": {
     "elapsed": 370,
     "status": "ok",
     "timestamp": 1690232886065,
     "user": {
      "displayName": "Vincent Wong",
      "userId": "06927694896148305320"
     },
     "user_tz": 240
    },
    "id": "4omuucvZqoJ5",
    "outputId": "54d45d9b-7eb7-44bf-8a6b-fbc28c840771"
   },
   "outputs": [],
   "source": [
    "usmap = data.us_10m()\n",
    "usmap.keys()"
   ]
  },
  {
   "cell_type": "code",
   "execution_count": null,
   "metadata": {
    "colab": {
     "base_uri": "https://localhost:8080/",
     "height": 35
    },
    "executionInfo": {
     "elapsed": 317,
     "status": "ok",
     "timestamp": 1690232886368,
     "user": {
      "displayName": "Vincent Wong",
      "userId": "06927694896148305320"
     },
     "user_tz": 240
    },
    "id": "Ns1AOlGLqoJ6",
    "outputId": "e142821d-b9f7-4b0a-8c82-ddffb9d1e399"
   },
   "outputs": [],
   "source": [
    "usmap['type']"
   ]
  },
  {
   "cell_type": "code",
   "execution_count": null,
   "metadata": {
    "colab": {
     "base_uri": "https://localhost:8080/"
    },
    "executionInfo": {
     "elapsed": 8,
     "status": "ok",
     "timestamp": 1690232887374,
     "user": {
      "displayName": "Vincent Wong",
      "userId": "06927694896148305320"
     },
     "user_tz": 240
    },
    "id": "iiLUWi-eqoJ6",
    "outputId": "655d2324-e2d2-470a-f99b-83f13d291f68"
   },
   "outputs": [],
   "source": [
    "usmap['transform']"
   ]
  },
  {
   "cell_type": "markdown",
   "metadata": {
    "id": "uU0dewNaqoJ7"
   },
   "source": [
    "This `transformation` is used to *quantize* the data and store the coordinates in integer (easier to store than float type numbers).\n",
    "\n",
    "https://github.com/topojson/topojson-specification#212-transforms"
   ]
  },
  {
   "cell_type": "code",
   "execution_count": null,
   "metadata": {
    "colab": {
     "base_uri": "https://localhost:8080/"
    },
    "executionInfo": {
     "elapsed": 4,
     "status": "ok",
     "timestamp": 1690232887710,
     "user": {
      "displayName": "Vincent Wong",
      "userId": "06927694896148305320"
     },
     "user_tz": 240
    },
    "id": "JkbKMqAfqoJ7",
    "outputId": "b93217f4-29f9-4291-b669-6b3f65e33500"
   },
   "outputs": [],
   "source": [
    "usmap['objects'].keys()"
   ]
  },
  {
   "cell_type": "markdown",
   "metadata": {
    "id": "xpDlwdPuqoJ8"
   },
   "source": [
    "This data contains not only county-level boundaries (objects) but also states and land boundaries."
   ]
  },
  {
   "cell_type": "code",
   "execution_count": null,
   "metadata": {
    "colab": {
     "base_uri": "https://localhost:8080/"
    },
    "executionInfo": {
     "elapsed": 394,
     "status": "ok",
     "timestamp": 1690232937202,
     "user": {
      "displayName": "Vincent Wong",
      "userId": "06927694896148305320"
     },
     "user_tz": 240
    },
    "id": "yUGjDhY5qoJ_",
    "outputId": "eaeb9c68-c1ed-4e9e-e1a3-92229c93f864"
   },
   "outputs": [],
   "source": [
    "usmap['objects']['land']['type'], usmap['objects']['states']['type'], usmap['objects']['counties']['type']"
   ]
  },
  {
   "cell_type": "markdown",
   "metadata": {
    "id": "JYlcwe0iqoJ_"
   },
   "source": [
    "`land` is a multipolygon (one object) and `states` and `counties` contains many geometrics (multipolygons) because there are many states (counties). We can look at a state as a set of arcs that define it. It's `id` captures the identity of the state and is the key to link to other datasets."
   ]
  },
  {
   "cell_type": "code",
   "execution_count": null,
   "metadata": {
    "colab": {
     "base_uri": "https://localhost:8080/"
    },
    "executionInfo": {
     "elapsed": 3,
     "status": "ok",
     "timestamp": 1690232937472,
     "user": {
      "displayName": "Vincent Wong",
      "userId": "06927694896148305320"
     },
     "user_tz": 240
    },
    "id": "osMJi24KqoKA",
    "outputId": "13195f5e-cfee-4291-d6aa-81fcad02ec26"
   },
   "outputs": [],
   "source": [
    "state1 = usmap['objects']['states']['geometries'][1]\n",
    "state1"
   ]
  },
  {
   "cell_type": "markdown",
   "metadata": {
    "id": "qktmc0T8qoKA"
   },
   "source": [
    "The `arcs` referred here is defined in `usmap['arcs']`."
   ]
  },
  {
   "cell_type": "code",
   "execution_count": null,
   "metadata": {
    "colab": {
     "base_uri": "https://localhost:8080/"
    },
    "executionInfo": {
     "elapsed": 3,
     "status": "ok",
     "timestamp": 1690232938354,
     "user": {
      "displayName": "Vincent Wong",
      "userId": "06927694896148305320"
     },
     "user_tz": 240
    },
    "id": "8S4lgQtTqoKA",
    "outputId": "c6c42b0e-bc3d-4f7c-c724-3d362b13cfb5"
   },
   "outputs": [],
   "source": [
    "usmap['arcs'][:10]"
   ]
  },
  {
   "cell_type": "markdown",
   "metadata": {
    "id": "k5r3XGSTqoKB"
   },
   "source": [
    "It seems pretty daunting to work with this dataset, right? But fortunately people have already built tools to handle such data."
   ]
  },
  {
   "cell_type": "code",
   "execution_count": null,
   "metadata": {
    "executionInfo": {
     "elapsed": 3,
     "status": "ok",
     "timestamp": 1690232939346,
     "user": {
      "displayName": "Vincent Wong",
      "userId": "06927694896148305320"
     },
     "user_tz": 240
    },
    "id": "Xq6w_c7fqoKC"
   },
   "outputs": [],
   "source": [
    "states = alt.topo_feature(data.us_10m.url, 'states')"
   ]
  },
  {
   "cell_type": "code",
   "execution_count": null,
   "metadata": {
    "colab": {
     "base_uri": "https://localhost:8080/"
    },
    "executionInfo": {
     "elapsed": 3,
     "status": "ok",
     "timestamp": 1690232939761,
     "user": {
      "displayName": "Vincent Wong",
      "userId": "06927694896148305320"
     },
     "user_tz": 240
    },
    "id": "94sDpllZqoKC",
    "outputId": "55bb5c0e-d5d9-4e00-e4a9-10515f07fbd2"
   },
   "outputs": [],
   "source": [
    "states"
   ]
  },
  {
   "cell_type": "markdown",
   "metadata": {
    "id": "y_FDWolcqoKD"
   },
   "source": [
    "Can you find a mark for geographical shapes from here https://altair-viz.github.io/user_guide/marks/index.html# and draw the states?"
   ]
  },
  {
   "cell_type": "code",
   "execution_count": null,
   "metadata": {
    "colab": {
     "base_uri": "https://localhost:8080/",
     "height": 331
    },
    "executionInfo": {
     "elapsed": 327,
     "status": "ok",
     "timestamp": 1690232957050,
     "user": {
      "displayName": "Vincent Wong",
      "userId": "06927694896148305320"
     },
     "user_tz": 240
    },
    "id": "oOLvExieqoKD",
    "outputId": "62cf18ce-f128-4f52-e60f-903ea8c930ef"
   },
   "outputs": [],
   "source": [
    "# YOUR SOLUTION HERE\n",
    "alt.Chart(states).mark_geoshape().properties(\n",
    "    width=800,\n",
    "    height=400\n",
    ")"
   ]
  },
  {
   "cell_type": "markdown",
   "metadata": {
    "id": "LAVrvLESqoKD"
   },
   "source": [
    "And then project it using the `albersUsa`?"
   ]
  },
  {
   "cell_type": "code",
   "execution_count": null,
   "metadata": {
    "colab": {
     "base_uri": "https://localhost:8080/",
     "height": 331
    },
    "executionInfo": {
     "elapsed": 17,
     "status": "ok",
     "timestamp": 1690232957991,
     "user": {
      "displayName": "Vincent Wong",
      "userId": "06927694896148305320"
     },
     "user_tz": 240
    },
    "id": "256_fw7hqoKE",
    "outputId": "164a356e-1b0f-4823-c0de-6e9056252773"
   },
   "outputs": [],
   "source": [
    "# YOUR SOLUTION HERE\n",
    "alt.Chart(states).mark_geoshape().properties(\n",
    "    width=400,\n",
    "    height=300\n",
    ").project(\n",
    "    type = 'albersUsa'\n",
    ")"
   ]
  },
  {
   "cell_type": "markdown",
   "metadata": {
    "id": "sD5c6TroqoKE"
   },
   "source": [
    "Can you do the same thing with counties and draw county boundaries?"
   ]
  },
  {
   "cell_type": "code",
   "execution_count": null,
   "metadata": {
    "colab": {
     "base_uri": "https://localhost:8080/",
     "height": 331
    },
    "executionInfo": {
     "elapsed": 5,
     "status": "ok",
     "timestamp": 1690232958857,
     "user": {
      "displayName": "Vincent Wong",
      "userId": "06927694896148305320"
     },
     "user_tz": 240
    },
    "id": "PucM5vM9qoKF",
    "outputId": "f4a74e7f-1cbd-4e30-c6c7-ff3a3f700700"
   },
   "outputs": [],
   "source": [
    "# YOUR SOLUTION HERE\n",
    "us_counties = alt.topo_feature(data.us_10m.url, 'counties')\n",
    "\n",
    "alt.Chart(us_counties).mark_geoshape().project(\n",
    "    type='albersUsa'\n",
    ").properties(\n",
    "    width=400,\n",
    "    height=300\n",
    ")"
   ]
  },
  {
   "cell_type": "markdown",
   "metadata": {
    "id": "JhiS_GwWqoKF"
   },
   "source": [
    "Let's load some county-level unemployment data."
   ]
  },
  {
   "cell_type": "code",
   "execution_count": null,
   "metadata": {
    "colab": {
     "base_uri": "https://localhost:8080/",
     "height": 206
    },
    "executionInfo": {
     "elapsed": 13,
     "status": "ok",
     "timestamp": 1690232959933,
     "user": {
      "displayName": "Vincent Wong",
      "userId": "06927694896148305320"
     },
     "user_tz": 240
    },
    "id": "dsLXey0VqoKG",
    "outputId": "641cee21-733e-4d0c-80d6-16d66e31f345"
   },
   "outputs": [],
   "source": [
    "unemp_data = data.unemployment(sep='\\t')\n",
    "unemp_data.head()"
   ]
  },
  {
   "cell_type": "markdown",
   "metadata": {
    "id": "jCQX5fJEqoKG"
   },
   "source": [
    "This dataset has unemployment rate. When? I don't know. We don't care about data provenance here because the goal is quickly trying out choropleth. But if you're working with a real dataset, you should be very sensitive about the provenance of your dataset. Make sure you understand where the data came from and how it was processed.\n",
    "\n",
    "Anyway, for each county specified with `id`. To combine two datasets, we use \"Lookup transform\" - https://vega.github.io/vega/docs/transforms/lookup/. Essentially, we use the `id` in the map data to look up (again) `id` field in the `unemp_data` and then bring in the `rate` variable. Then, we can use that `rate` variable to encode the color of the `geoshape` mark."
   ]
  },
  {
   "cell_type": "code",
   "execution_count": null,
   "metadata": {
    "colab": {
     "base_uri": "https://localhost:8080/",
     "height": 431,
     "resources": {
      "http://localhost:8080/altair-data-141893a9f0c2b2c58be329ef58d66780.json": {
       "data": "CjwhRE9DVFlQRSBodG1sPgo8aHRtbCBsYW5nPWVuPgogIDxtZXRhIGNoYXJzZXQ9dXRmLTg+CiAgPG1ldGEgbmFtZT12aWV3cG9ydCBjb250ZW50PSJpbml0aWFsLXNjYWxlPTEsIG1pbmltdW0tc2NhbGU9MSwgd2lkdGg9ZGV2aWNlLXdpZHRoIj4KICA8dGl0bGU+RXJyb3IgNDA0IChOb3QgRm91bmQpISExPC90aXRsZT4KICA8c3R5bGU+CiAgICAqe21hcmdpbjowO3BhZGRpbmc6MH1odG1sLGNvZGV7Zm9udDoxNXB4LzIycHggYXJpYWwsc2Fucy1zZXJpZn1odG1se2JhY2tncm91bmQ6I2ZmZjtjb2xvcjojMjIyO3BhZGRpbmc6MTVweH1ib2R5e21hcmdpbjo3JSBhdXRvIDA7bWF4LXdpZHRoOjM5MHB4O21pbi1oZWlnaHQ6MTgwcHg7cGFkZGluZzozMHB4IDAgMTVweH0qID4gYm9keXtiYWNrZ3JvdW5kOnVybCgvL3d3dy5nb29nbGUuY29tL2ltYWdlcy9lcnJvcnMvcm9ib3QucG5nKSAxMDAlIDVweCBuby1yZXBlYXQ7cGFkZGluZy1yaWdodDoyMDVweH1we21hcmdpbjoxMXB4IDAgMjJweDtvdmVyZmxvdzpoaWRkZW59aW5ze2NvbG9yOiM3Nzc7dGV4dC1kZWNvcmF0aW9uOm5vbmV9YSBpbWd7Ym9yZGVyOjB9QG1lZGlhIHNjcmVlbiBhbmQgKG1heC13aWR0aDo3NzJweCl7Ym9keXtiYWNrZ3JvdW5kOm5vbmU7bWFyZ2luLXRvcDowO21heC13aWR0aDpub25lO3BhZGRpbmctcmlnaHQ6MH19I2xvZ297YmFja2dyb3VuZDp1cmwoLy93d3cuZ29vZ2xlLmNvbS9pbWFnZXMvbG9nb3MvZXJyb3JwYWdlL2Vycm9yX2xvZ28tMTUweDU0LnBuZykgbm8tcmVwZWF0O21hcmdpbi1sZWZ0Oi01cHh9QG1lZGlhIG9ubHkgc2NyZWVuIGFuZCAobWluLXJlc29sdXRpb246MTkyZHBpKXsjbG9nb3tiYWNrZ3JvdW5kOnVybCgvL3d3dy5nb29nbGUuY29tL2ltYWdlcy9sb2dvcy9lcnJvcnBhZ2UvZXJyb3JfbG9nby0xNTB4NTQtMngucG5nKSBuby1yZXBlYXQgMCUgMCUvMTAwJSAxMDAlOy1tb3otYm9yZGVyLWltYWdlOnVybCgvL3d3dy5nb29nbGUuY29tL2ltYWdlcy9sb2dvcy9lcnJvcnBhZ2UvZXJyb3JfbG9nby0xNTB4NTQtMngucG5nKSAwfX1AbWVkaWEgb25seSBzY3JlZW4gYW5kICgtd2Via2l0LW1pbi1kZXZpY2UtcGl4ZWwtcmF0aW86Mil7I2xvZ297YmFja2dyb3VuZDp1cmwoLy93d3cuZ29vZ2xlLmNvbS9pbWFnZXMvbG9nb3MvZXJyb3JwYWdlL2Vycm9yX2xvZ28tMTUweDU0LTJ4LnBuZykgbm8tcmVwZWF0Oy13ZWJraXQtYmFja2dyb3VuZC1zaXplOjEwMCUgMTAwJX19I2xvZ297ZGlzcGxheTppbmxpbmUtYmxvY2s7aGVpZ2h0OjU0cHg7d2lkdGg6MTUwcHh9CiAgPC9zdHlsZT4KICA8YSBocmVmPS8vd3d3Lmdvb2dsZS5jb20vPjxzcGFuIGlkPWxvZ28gYXJpYS1sYWJlbD1Hb29nbGU+PC9zcGFuPjwvYT4KICA8cD48Yj40MDQuPC9iPiA8aW5zPlRoYXTigJlzIGFuIGVycm9yLjwvaW5zPgogIDxwPiAgPGlucz5UaGF04oCZcyBhbGwgd2Uga25vdy48L2lucz4K",
       "headers": [
        [
         "content-length",
         "1449"
        ],
        [
         "content-type",
         "text/html; charset=utf-8"
        ]
       ],
       "ok": false,
       "status": 404,
       "status_text": ""
      }
     }
    },
    "executionInfo": {
     "elapsed": 12,
     "status": "ok",
     "timestamp": 1690232960674,
     "user": {
      "displayName": "Vincent Wong",
      "userId": "06927694896148305320"
     },
     "user_tz": 240
    },
    "id": "UknNEGG_qoKH",
    "outputId": "dcce3265-2bf7-46d3-97a4-17264b815d00"
   },
   "outputs": [],
   "source": [
    "alt.Chart(us_counties).mark_geoshape().project(\n",
    "    type='albersUsa'\n",
    ").transform_lookup(\n",
    "    lookup='id',\n",
    "    from_=alt.LookupData(unemp_data, 'id', ['rate'])\n",
    ").encode(\n",
    "    color='rate:Q'\n",
    ").properties(\n",
    "    width=700,\n",
    "    height=400\n",
    ")"
   ]
  },
  {
   "cell_type": "markdown",
   "metadata": {
    "id": "mMHYUbQsqoKH"
   },
   "source": [
    "There you have it, a nice choropleth map. 😎\n"
   ]
  },
  {
   "cell_type": "markdown",
   "metadata": {
    "id": "gdInAvwdqoKI"
   },
   "source": [
    "## Raster visualization with datashader\n",
    "\n",
    "Although many geovisualizations use vector graphics, raster visualization is still useful especially when you deal with images and lots of datapoints. Datashader is a package that aggregates and visualizes a large amount of data very quickly. Given a *scene* (visualization boundary, resolution, etc.), it quickly aggregate the data and produce **pixels** and send them to you.\n",
    "\n",
    "To appreciate its power, we need a fairly large dataset. Let's use NYC taxi trip dataset on Kaggle: https://www.kaggle.com/kentonnlp/2014-new-york-city-taxi-trips You can download even bigger trip data from NYC open data website: https://opendata.cityofnewyork.us/data/\n",
    "\n",
    "Ah, and you want to install the datashader, bokeh, and holoviews first if you don't have them yet.  \n",
    "\n",
    "    pip install datashader bokeh holoviews jupyter-bokeh\n",
    "\n",
    "or\n",
    "\n",
    "    conda install datashader bokeh holoviews jupyter-bokeh\n",
    "    "
   ]
  },
  {
   "cell_type": "code",
   "execution_count": null,
   "metadata": {
    "executionInfo": {
     "elapsed": 3016,
     "status": "ok",
     "timestamp": 1690233051824,
     "user": {
      "displayName": "Vincent Wong",
      "userId": "06927694896148305320"
     },
     "user_tz": 240
    },
    "id": "Coy9hAAfqoKI"
   },
   "outputs": [],
   "source": [
    "import pandas as pd\n",
    "import datashader as ds\n",
    "from datashader import transfer_functions as tf\n",
    "from colorcet import fire"
   ]
  },
  {
   "cell_type": "markdown",
   "metadata": {
    "id": "camMhr7pqoKI"
   },
   "source": [
    "Because the dataset is pretty big, let's use a small sample first. For this visualization, we only keep the dropoff location."
   ]
  },
  {
   "cell_type": "code",
   "execution_count": null,
   "metadata": {
    "colab": {
     "base_uri": "https://localhost:8080/",
     "height": 345
    },
    "executionInfo": {
     "elapsed": 319,
     "status": "error",
     "timestamp": 1690233059618,
     "user": {
      "displayName": "Vincent Wong",
      "userId": "06927694896148305320"
     },
     "user_tz": 240
    },
    "id": "0DxKvpjoqoKJ",
    "outputId": "b9b581ae-328f-42de-8bdf-aeba33b1ff65"
   },
   "outputs": [],
   "source": [
    "nyctaxi_small = pd.read_csv('~/Downloads/archive/nyc_taxi_data_2014.csv', nrows=10000,\n",
    "                            usecols=['dropoff_longitude', 'dropoff_latitude'])\n",
    "nyctaxi_small.head()"
   ]
  },
  {
   "cell_type": "markdown",
   "metadata": {
    "id": "bXyxUFG-qoKJ"
   },
   "source": [
    "Although the dataset is different, we can still follow the example here: https://datashader.org/getting_started/Introduction.html"
   ]
  },
  {
   "cell_type": "code",
   "execution_count": null,
   "metadata": {
    "id": "L6ZCUMFAqoKJ",
    "outputId": "94c8f839-4197-4413-b19a-a867b964eb8f"
   },
   "outputs": [],
   "source": [
    "agg = ds.Canvas().points(nyctaxi_small, 'dropoff_longitude', 'dropoff_latitude')\n",
    "tf.set_background(tf.shade(agg, cmap=fire),\"black\")"
   ]
  },
  {
   "cell_type": "markdown",
   "metadata": {
    "id": "OKsxrWfhqoKK"
   },
   "source": [
    "Why can't we see anything? Wait, do you see the small dots on the left top? Can that be New York City? Maybe we don't see anything because some people travel very far? or because the dataset has some missing data?\n",
    "\n",
    "**Q: Can you first check whether there are NaNs? Then drop them and draw the map again?**"
   ]
  },
  {
   "cell_type": "code",
   "execution_count": null,
   "metadata": {
    "id": "IczXK0shqoKK",
    "outputId": "11dc377d-ba70-4976-a9e3-daa71f7a8824"
   },
   "outputs": [],
   "source": [
    "# YOUR SOLUTION HERE\n",
    "nyctaxi_small.isna().sum()"
   ]
  },
  {
   "cell_type": "code",
   "execution_count": null,
   "metadata": {
    "id": "ac27UgIfqoKL",
    "outputId": "723f1494-65d5-4a7a-fdc7-1f03142643a2"
   },
   "outputs": [],
   "source": [
    "# drop the rows with NaN and then draw the map again.\n",
    "nyctaxi_small.dropna()\n",
    "\n",
    "# YOUR SOLUTION HERE\n",
    "agg = ds.Canvas().points(nyctaxi_small, 'dropoff_longitude', 'dropoff_latitude')\n",
    "tf.set_background(tf.shade(agg, cmap=fire),\"black\")"
   ]
  },
  {
   "cell_type": "markdown",
   "metadata": {
    "id": "t-76U_7vqoKM"
   },
   "source": [
    "So it's not about the missing data.\n",
    "\n",
    "**Q: Can you identify the issue and draw the map like the following?**\n",
    "\n",
    "hint: https://pandas.pydata.org/pandas-docs/stable/reference/api/pandas.Series.between.html this method may be helpful."
   ]
  },
  {
   "cell_type": "code",
   "execution_count": null,
   "metadata": {
    "id": "kZFc77QhqoKM",
    "outputId": "2003389f-aaa0-4b54-ca8e-67a82ee1d642"
   },
   "outputs": [],
   "source": [
    "# You can use multiple cells to figure out what's going on.\n",
    "\n",
    "# YOUR SOLUTION HERE\n",
    "nyctaxi_small_filtered = nyctaxi_small[\n",
    "    nyctaxi_small['dropoff_latitude'].between(40.5, 41) &\n",
    "    nyctaxi_small['dropoff_longitude'].between(-74.2, -73.7)\n",
    "]"
   ]
  },
  {
   "cell_type": "code",
   "execution_count": null,
   "metadata": {
    "id": "WyBuABbSqoKN",
    "outputId": "a6b22583-78ae-4356-9ee0-44c1049031df"
   },
   "outputs": [],
   "source": [
    "agg = ds.Canvas().points(nyctaxi_small_filtered, 'dropoff_longitude', 'dropoff_latitude')\n",
    "tf.set_background(tf.shade(agg, cmap=fire), \"black\")"
   ]
  },
  {
   "cell_type": "markdown",
   "metadata": {
    "id": "nq6Px8I8qoKO"
   },
   "source": [
    "Do you see the black empty space at the center? That looks like the Central Park. This is cool, but it'll be awesome if we can explore the data interactively."
   ]
  },
  {
   "cell_type": "markdown",
   "metadata": {
    "id": "FP4BKa0qqoKP"
   },
   "source": [
    "Ok, now let's get serious by loading the whole dataset. It may take some time. Apply the same data cleaning procedure."
   ]
  },
  {
   "cell_type": "code",
   "execution_count": null,
   "metadata": {
    "id": "-hKJ8Eo0qoKP"
   },
   "outputs": [],
   "source": [
    "# YOUR SOLUTION HERE\n",
    "nyctaxi_all = pd.read_csv('~/Downloads/archive/nyc_taxi_data_2014.csv',\n",
    "                            usecols=['dropoff_longitude', 'dropoff_latitude'])\n",
    "\n",
    "nyctaxi_all.dropna()\n",
    "\n",
    "nyctaxi_filtered = nyctaxi_all[\n",
    "    nyctaxi_all['dropoff_latitude'].between(40.5, 41) &\n",
    "    nyctaxi_all['dropoff_longitude'].between(-74.2, -73.7)\n",
    "]"
   ]
  },
  {
   "cell_type": "markdown",
   "metadata": {
    "id": "DIp6mf1GqoKP"
   },
   "source": [
    "Can you feed the data directly to datashader to reproduce the static plot, this time with the full data?"
   ]
  },
  {
   "cell_type": "code",
   "execution_count": null,
   "metadata": {
    "id": "b3vV9m7RqoKQ",
    "outputId": "c7e39a6a-e484-4720-e8f9-4364a75b4a26"
   },
   "outputs": [],
   "source": [
    "# YOUR SOLUTION HERE\n",
    "agg = ds.Canvas().points(nyctaxi_filtered, 'dropoff_longitude', 'dropoff_latitude')\n",
    "tf.set_background(tf.shade(agg, cmap=fire), \"black\")"
   ]
  },
  {
   "cell_type": "markdown",
   "metadata": {
    "id": "vk9lsI3RqoKQ"
   },
   "source": [
    "Wow, that's fast. Also it looks cool!\n",
    "\n",
    "Let's try the interactive version from here: https://datashader.org/getting_started/Introduction.html"
   ]
  },
  {
   "cell_type": "code",
   "execution_count": null,
   "metadata": {},
   "outputs": [],
   "source": [
    "nyctaxi_filtered"
   ]
  },
  {
   "cell_type": "markdown",
   "metadata": {},
   "source": [
    "We currently only have longitudes and latitudes. We need to conver them into a coordinate system that datashader understands. "
   ]
  },
  {
   "cell_type": "code",
   "execution_count": null,
   "metadata": {},
   "outputs": [],
   "source": [
    "from datashader.utils import lnglat_to_meters\n",
    "\n",
    "df = nyctaxi_filtered\n",
    "df['dropoff_x'], df['dropoff_y'] = lnglat_to_meters(df.dropoff_longitude, df.dropoff_latitude)\n"
   ]
  },
  {
   "cell_type": "markdown",
   "metadata": {},
   "source": [
    "Now we can visualize the data interactively. See https://datashader.org/getting_started/Introduction.html"
   ]
  },
  {
   "cell_type": "code",
   "execution_count": null,
   "metadata": {
    "id": "I-BDGl86qoKR",
    "outputId": "be2ff1c4-1abe-4d7e-cda4-07928816f93a"
   },
   "outputs": [],
   "source": [
    "import holoviews as hv\n",
    "import colorcet as cc\n",
    "\n",
    "from holoviews.element.tiles import EsriImagery\n",
    "from holoviews.operation.datashader import datashade\n",
    "hv.extension('bokeh')\n",
    "\n",
    "# YOUR SOLUTION HERE\n",
    "points = hv.Points(df, ['dropoff_x', 'dropoff_y'])\n",
    "trips = datashade(points, x_sampling=1, y_sampling=1, cmap=cc.fire, width=900, height=480)\n",
    "\n",
    "map = EsriImagery().opts(alpha=0.5, width=900, height=480, bgcolor='black') * trips\n",
    "map.opts(tools=['hover'], width=900, height=480)"
   ]
  },
  {
   "cell_type": "markdown",
   "metadata": {
    "id": "hUQHpvavqoKT"
   },
   "source": [
    "**Q: how many rows (data points) are we visualizing right now?**"
   ]
  },
  {
   "cell_type": "code",
   "execution_count": null,
   "metadata": {
    "id": "m-_JQKvZqoKU",
    "outputId": "b3170f1e-758e-47eb-cdf2-8cf32f44fa20"
   },
   "outputs": [],
   "source": [
    "# YOUR SOLUTION HERE\n",
    "len(df)"
   ]
  },
  {
   "cell_type": "markdown",
   "metadata": {
    "id": "nxd8DnIrqoKU"
   },
   "source": [
    "That's a lot of data points. If we are using a vector format, it is probably hopeless to expect any interactivity because you need to move that many points! Yet, datashader + holoviews + bokeh renders everything almost in real time!"
   ]
  },
  {
   "cell_type": "markdown",
   "metadata": {
    "id": "m36lbKUDqoKU"
   },
   "source": [
    "## Leaflet\n",
    "\n",
    "Another useful tool is Leaflet. It allows you to use various map tile data (Google maps, Open streetmap, ...) with many types of marks (points, heatmap, etc.). [Leaflet.js](https://leafletjs.com) is one of the easiest options to do that on the web, and there is a Python bridge of it: https://github.com/jupyter-widgets/ipyleaflet. \n",
    "\n",
    "You can install it simply by \n",
    "\n",
    "```sh\n",
    "pip install ipyleaflet\n",
    "```\n",
    "\n",
    "It is quite easy to display an interactive map with it. You can also add markers, polygons, etc."
   ]
  },
  {
   "cell_type": "markdown",
   "metadata": {},
   "source": [
    "from ipyleaflet import Map, Marker\n",
    "\n",
    "center = (52.204793, 360.121558)\n",
    "\n",
    "m = Map(center=center, zoom=15)\n",
    "\n",
    "marker = Marker(location=center, draggable=True)\n",
    "m.add(marker);\n",
    "\n",
    "display(m)\n",
    "\n",
    "marker.location = center\n"
   ]
  },
  {
   "cell_type": "markdown",
   "metadata": {},
   "source": [
    "ipyleaflet lets you use various basemaps. You can find the list of available basemaps here: https://leaflet-extras.github.io/leaflet-providers/preview/ \n",
    "\n",
    "For instance, let's use OpenStreetMap and zoom into the Luddy School building."
   ]
  },
  {
   "cell_type": "code",
   "execution_count": null,
   "metadata": {},
   "outputs": [],
   "source": [
    "from ipyleaflet import basemaps, Map\n",
    "\n",
    "center = (39.172681590059604, -86.5233788123735)\n",
    "zoom = 17\n",
    "\n",
    "Map(basemap=basemaps.OpenStreetMap.HOT, center=center, zoom=zoom)"
   ]
  },
  {
   "cell_type": "markdown",
   "metadata": {},
   "source": [
    "**Q: can you identify a combination of location, zoom-level, and basemap to create an interesting(?) map?**"
   ]
  },
  {
   "cell_type": "code",
   "execution_count": null,
   "metadata": {},
   "outputs": [],
   "source": [
    "# YOUR SOLUTION HERE\n",
    "Map(basemap=basemaps.OpenStreetMap.DE, center=center, zoom=40)"
   ]
  },
  {
   "cell_type": "markdown",
   "metadata": {},
   "source": [
    "Let's create a heatmap. First create a small list of random points around the center. "
   ]
  },
  {
   "cell_type": "code",
   "execution_count": null,
   "metadata": {},
   "outputs": [],
   "source": [
    "center"
   ]
  },
  {
   "cell_type": "code",
   "execution_count": null,
   "metadata": {},
   "outputs": [],
   "source": [
    "from random import uniform\n",
    "random_points = [\n",
    "    [\n",
    "        uniform(center[0]-0.01, center[0]+0.01), \n",
    "        uniform(center[1]-0.01, center[1]+0.01), \n",
    "        uniform(0, 5)\n",
    "    ] for x in range(100)\n",
    "]\n",
    "random_points[:2]"
   ]
  },
  {
   "cell_type": "markdown",
   "metadata": {},
   "source": [
    "**Q: using these random points, can you create a heatmap?**\n",
    "\n",
    "documentation: https://ipyleaflet.readthedocs.io/en/latest/layers/heatmap.html"
   ]
  },
  {
   "cell_type": "code",
   "execution_count": null,
   "metadata": {},
   "outputs": [],
   "source": [
    "from ipyleaflet import Map, Heatmap\n",
    "\n",
    "# YOUR SOLUTION HERE\n",
    "map = Map(center = center, zoom = zoom)\n",
    "\n",
    "heatmap = Heatmap(\n",
    "    locations = random_points,\n",
    "    radius = 30\n",
    ")\n",
    "map.add(heatmap)\n",
    "map"
   ]
  }
 ],
 "metadata": {
  "anaconda-cloud": {},
  "colab": {
   "provenance": []
  },
  "kernelspec": {
   "display_name": "Python 3 (ipykernel)",
   "language": "python",
   "name": "python3"
  },
  "language_info": {
   "codemirror_mode": {
    "name": "ipython",
    "version": 3
   },
   "file_extension": ".py",
   "mimetype": "text/x-python",
   "name": "python",
   "nbconvert_exporter": "python",
   "pygments_lexer": "ipython3",
   "version": "3.12.4"
  },
  "toc": {
   "nav_menu": {},
   "number_sections": true,
   "sideBar": true,
   "skip_h1_title": false,
   "title_cell": "Table of Contents",
   "title_sidebar": "Contents",
   "toc_cell": false,
   "toc_position": {},
   "toc_section_display": true,
   "toc_window_display": false
  }
 },
 "nbformat": 4,
 "nbformat_minor": 4
}
