{
 "cells": [
  {
   "cell_type": "markdown",
   "metadata": {},
   "source": [
    "This course requires basic understanding of linear algebra, statistics, and programming. This (ungraded) quiz lets you (and us) assess whether you have a good basis for taking this course. If you are comfortable with the following questions (the questions are supposed to be trivial for I590 students), you will not have too much difficulty. If you find the following questions challenging, you may need to put lots of efforts throughout your course. Of course we will do our best to help you if you are willing to learn."
   ]
  },
  {
   "cell_type": "markdown",
   "metadata": {},
   "source": [
    "1. $\\vec{a} = \\begin{bmatrix} 1 \\\\ 3 \\\\ 4 \\end{bmatrix}$ and $\\vec{b} = \\begin{bmatrix} -1 \\\\ 0 \\\\ 1 \\end{bmatrix}$.  Calculate $\\left| \\vec{a} \\right| $, $\\vec{a} \\cdot \\vec{b}$, and $\\vec{a} + \\vec{b}$. \n",
    "\n",
    "1. $A = \\begin{bmatrix}3 & 1 & 0\\\\2 & 1 & 5\\end{bmatrix}$, calculate $A A^\\top$.\n",
    "\n",
    "1. What is the definition and characteristics of **eigenvector** and **eigenvalue**? \n",
    "\n",
    "1. What is the definition of **mean**, **median**, and **standard deviation**? \n",
    "\n",
    "1. What would be the result of the following Python code? Run the code and check whether the result is the same as yours.\n",
    "\n",
    "    ```\n",
    "    alist = [1,2,3]\n",
    "    anotherlist = alist\n",
    "    anotherlist[0] = 5\n",
    "    print(alist)\n",
    "    ```\n",
    "    \n",
    "1. What is the result of the following Python code? Run the code and check whether the result is the same as yours.\n",
    "\n",
    "    ```\n",
    "    print(\"5\" + \"10\")\n",
    "    print(10*\"5\")\n",
    "    ```\n",
    "    \n",
    "1. Write a function using any language to calculate the mean, median, and standard deviation of a given list.\n",
    "\n",
    "1. You got salary data of the Acme Corporation. They are just numbers, not associated with names of the employees. Which Python data structure (among list, dictionary, and set) will you use to store this numbers? Justify your answer.\n",
    "\n",
    "1. What are the differences of list and dictionary? Explain when one should use one versus the other. Show some use case examples where using list is much more efficient than dictionary and vice versa.\n",
    "\n",
    "1. In your script `myscript.py`, you want to use a function `donothing()` defined in a module called `usefulfunctions`. How can you import this module (assuming it's installed or in the same directory) and use this function?"
   ]
  }
 ],
 "metadata": {
  "kernelspec": {
   "display_name": "Python 3",
   "language": "python",
   "name": "python3"
  },
  "language_info": {
   "codemirror_mode": {
    "name": "ipython",
    "version": 3
   },
   "file_extension": ".py",
   "mimetype": "text/x-python",
   "name": "python",
   "nbconvert_exporter": "python",
   "pygments_lexer": "ipython3",
   "version": "3.4.3"
  }
 },
 "nbformat": 4,
 "nbformat_minor": 0
}
